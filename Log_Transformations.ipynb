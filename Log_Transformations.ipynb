{
  "nbformat": 4,
  "nbformat_minor": 0,
  "metadata": {
    "colab": {
      "provenance": [],
      "authorship_tag": "ABX9TyNeRHBJxVMKBfqg/ziTnyra",
      "include_colab_link": true
    },
    "kernelspec": {
      "name": "python3",
      "display_name": "Python 3"
    },
    "language_info": {
      "name": "python"
    }
  },
  "cells": [
    {
      "cell_type": "markdown",
      "metadata": {
        "id": "view-in-github",
        "colab_type": "text"
      },
      "source": [
        "<a href=\"https://colab.research.google.com/github/AdityakumarSrivastwa/Expension-production-app-mern/blob/main/Log_Transformations.ipynb\" target=\"_parent\"><img src=\"https://colab.research.google.com/assets/colab-badge.svg\" alt=\"Open In Colab\"/></a>"
      ]
    },
    {
      "cell_type": "code",
      "execution_count": 4,
      "metadata": {
        "id": "7vfcj_2LhAZb"
      },
      "outputs": [],
      "source": [
        "import cv2\n",
        "\n"
      ]
    },
    {
      "cell_type": "code",
      "source": [
        "import numpy as np"
      ],
      "metadata": {
        "id": "beQp8pHDhVEJ"
      },
      "execution_count": 5,
      "outputs": []
    },
    {
      "cell_type": "markdown",
      "source": [
        "** Open the image. **"
      ],
      "metadata": {
        "id": "qWAzQcd1H7a7"
      }
    },
    {
      "cell_type": "code",
      "source": [
        "img = cv2.imread('/content/Image1.jpeg')"
      ],
      "metadata": {
        "id": "Fn-swNK9hatI"
      },
      "execution_count": 6,
      "outputs": []
    },
    {
      "cell_type": "markdown",
      "source": [
        "** Apply log transform **"
      ],
      "metadata": {
        "id": "aPrQx4WUIGJ2"
      }
    },
    {
      "cell_type": "code",
      "source": [
        "c = 255/(np.log(1 + np.max(img)))"
      ],
      "metadata": {
        "id": "Kl4kucFYjuNH"
      },
      "execution_count": 7,
      "outputs": []
    },
    {
      "cell_type": "markdown",
      "source": [
        "**Specify the data type. **"
      ],
      "metadata": {
        "id": "kJGMIsGxIREY"
      }
    },
    {
      "cell_type": "code",
      "source": [
        "log_transformed = c * np.log(1 + img)\n"
      ],
      "metadata": {
        "colab": {
          "base_uri": "https://localhost:8080/"
        },
        "id": "qdn5Ti6FjzUy",
        "outputId": "744067d3-39e9-43d7-bd0a-708ce8562c1a"
      },
      "execution_count": 8,
      "outputs": [
        {
          "output_type": "stream",
          "name": "stderr",
          "text": [
            "<ipython-input-8-f9445c4fdb25>:1: RuntimeWarning: divide by zero encountered in log\n",
            "  log_transformed = c * np.log(1 + img)\n"
          ]
        }
      ]
    },
    {
      "cell_type": "code",
      "source": [
        "log_transformed = np.array(log_transformed, dtype = np.uint8)"
      ],
      "metadata": {
        "colab": {
          "base_uri": "https://localhost:8080/"
        },
        "id": "anmsB1bmj5Q2",
        "outputId": "f076295d-6b39-47fb-d575-0d28f34935a0"
      },
      "execution_count": 9,
      "outputs": [
        {
          "output_type": "stream",
          "name": "stderr",
          "text": [
            "<ipython-input-9-3f99ef678a89>:1: RuntimeWarning: invalid value encountered in cast\n",
            "  log_transformed = np.array(log_transformed, dtype = np.uint8)\n"
          ]
        }
      ]
    },
    {
      "cell_type": "code",
      "source": [
        "cv2.imwrite('log_transformed.jpg', log_transformed)"
      ],
      "metadata": {
        "colab": {
          "base_uri": "https://localhost:8080/"
        },
        "id": "yR8ZkITNj9qi",
        "outputId": "a0812678-0640-4988-e1e2-72025e327afb"
      },
      "execution_count": 12,
      "outputs": [
        {
          "output_type": "execute_result",
          "data": {
            "text/plain": [
              "True"
            ]
          },
          "metadata": {},
          "execution_count": 12
        }
      ]
    },
    {
      "cell_type": "markdown",
      "source": [
        "Power-Law Transformation"
      ],
      "metadata": {
        "id": "ZBhH_zBdkmC2"
      }
    }
  ]
}